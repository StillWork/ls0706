{
 "cells": [
  {
   "cell_type": "markdown",
   "id": "4a1bc3dc",
   "metadata": {},
   "source": [
    "# 매트릭스 연산의 의미\n",
    "## 이진 분류 예시\n",
    "- 키와 몸무게를 보고, 운동종목(sports):축구/농구, 성별(sex):남/여, 나이(age):장년/청소년 등 세가지 목적변수를 구분하는 예\n",
    "- 입력(X)는 키와 몸무게 이고, 세가지 목적 변수를 각각 y1, y2, y3라고 하겠다"
   ]
  },
  {
   "cell_type": "code",
   "execution_count": 1,
   "id": "d402d1ec",
   "metadata": {},
   "outputs": [],
   "source": [
    "import numpy as np \n",
    "import pandas as pd\n",
    "import matplotlib.pyplot as plt\n",
    "import matplotlib\n",
    "%matplotlib inline\n",
    "%config InlineBackend.figure_format = 'retina'\n",
    "matplotlib.rcParams['figure.figsize'] = (5,4)\n",
    "from numpy import random"
   ]
  },
  {
   "cell_type": "markdown",
   "id": "4f77400c",
   "metadata": {},
   "source": [
    "## 20명의 샘플 데이터 생성"
   ]
  },
  {
   "cell_type": "code",
   "execution_count": 2,
   "id": "0d7485c8",
   "metadata": {},
   "outputs": [
    {
     "data": {
      "text/plain": [
       "<matplotlib.collections.PathCollection at 0x7f9a7ad31760>"
      ]
     },
     "execution_count": 2,
     "metadata": {},
     "output_type": "execute_result"
    },
    {
     "data": {
      "image/png": "[encoded data removed]",
      "text/plain": [
       "<Figure size 360x288 with 1 Axes>"
      ]
     },
     "metadata": {
      "image/png": {
       "height": 248,
       "width": 322
      },
      "needs_background": "light"
     },
     "output_type": "display_data"
    }
   ],
   "source": [
    "n_samples = 20\n",
    "random.seed(15)\n",
    "height = 4*np.random.randn(n_samples).round(2) + 170\n",
    "weight = 5*np.random.randn(n_samples).round(2) + 65\n",
    "df = pd.DataFrame({\"height\": height, \"weight\": weight})\n",
    "plt.scatter(height, weight)"
   ]
  },
  {
   "cell_type": "markdown",
   "id": "98a9f725",
   "metadata": {},
   "source": [
    "## 임의로 운동종목, 성별, 나이를 지정한다\n",
    "- 축구, 농구 = 1,0\n",
    "- 남, 여 = 1,0\n",
    "- 장년, 청년 = 1,0"
   ]
  },
  {
   "cell_type": "code",
   "execution_count": 3,
   "id": "50d6c79d",
   "metadata": {},
   "outputs": [
    {
     "data": {
      "text/html": [
       "<div>\n",
       "<style scoped>\n",
       "    .dataframe tbody tr th:only-of-type {\n",
       "        vertical-align: middle;\n",
       "    }\n",
       "\n",
       "    .dataframe tbody tr th {\n",
       "        vertical-align: top;\n",
       "    }\n",
       "\n",
       "    .dataframe thead th {\n",
       "        text-align: right;\n",
       "    }\n",
       "</style>\n",
       "<table border=\"1\" class=\"dataframe\">\n",
       "  <thead>\n",
       "    <tr style=\"text-align: right;\">\n",
       "      <th></th>\n",
       "      <th>height</th>\n",
       "      <th>weight</th>\n",
       "      <th>sports</th>\n",
       "      <th>sex</th>\n",
       "      <th>age</th>\n",
       "    </tr>\n",
       "  </thead>\n",
       "  <tbody>\n",
       "    <tr>\n",
       "      <th>5</th>\n",
       "      <td>162.96</td>\n",
       "      <td>55.70</td>\n",
       "      <td>1</td>\n",
       "      <td>0</td>\n",
       "      <td>0</td>\n",
       "    </tr>\n",
       "    <tr>\n",
       "      <th>6</th>\n",
       "      <td>165.60</td>\n",
       "      <td>59.15</td>\n",
       "      <td>1</td>\n",
       "      <td>0</td>\n",
       "      <td>0</td>\n",
       "    </tr>\n",
       "    <tr>\n",
       "      <th>7</th>\n",
       "      <td>165.64</td>\n",
       "      <td>72.10</td>\n",
       "      <td>1</td>\n",
       "      <td>1</td>\n",
       "      <td>1</td>\n",
       "    </tr>\n",
       "    <tr>\n",
       "      <th>14</th>\n",
       "      <td>167.76</td>\n",
       "      <td>66.15</td>\n",
       "      <td>1</td>\n",
       "      <td>1</td>\n",
       "      <td>1</td>\n",
       "    </tr>\n",
       "    <tr>\n",
       "      <th>3</th>\n",
       "      <td>168.00</td>\n",
       "      <td>59.30</td>\n",
       "      <td>1</td>\n",
       "      <td>0</td>\n",
       "      <td>0</td>\n",
       "    </tr>\n",
       "    <tr>\n",
       "      <th>9</th>\n",
       "      <td>168.12</td>\n",
       "      <td>71.45</td>\n",
       "      <td>1</td>\n",
       "      <td>1</td>\n",
       "      <td>1</td>\n",
       "    </tr>\n",
       "    <tr>\n",
       "      <th>8</th>\n",
       "      <td>168.76</td>\n",
       "      <td>72.50</td>\n",
       "      <td>1</td>\n",
       "      <td>1</td>\n",
       "      <td>1</td>\n",
       "    </tr>\n",
       "    <tr>\n",
       "      <th>0</th>\n",
       "      <td>168.76</td>\n",
       "      <td>64.55</td>\n",
       "      <td>1</td>\n",
       "      <td>1</td>\n",
       "      <td>0</td>\n",
       "    </tr>\n",
       "    <tr>\n",
       "      <th>10</th>\n",
       "      <td>169.20</td>\n",
       "      <td>55.95</td>\n",
       "      <td>0</td>\n",
       "      <td>0</td>\n",
       "      <td>0</td>\n",
       "    </tr>\n",
       "    <tr>\n",
       "      <th>2</th>\n",
       "      <td>169.36</td>\n",
       "      <td>65.60</td>\n",
       "      <td>1</td>\n",
       "      <td>1</td>\n",
       "      <td>1</td>\n",
       "    </tr>\n",
       "    <tr>\n",
       "      <th>16</th>\n",
       "      <td>169.36</td>\n",
       "      <td>65.00</td>\n",
       "      <td>1</td>\n",
       "      <td>1</td>\n",
       "      <td>1</td>\n",
       "    </tr>\n",
       "    <tr>\n",
       "      <th>19</th>\n",
       "      <td>170.04</td>\n",
       "      <td>75.25</td>\n",
       "      <td>1</td>\n",
       "      <td>1</td>\n",
       "      <td>1</td>\n",
       "    </tr>\n",
       "    <tr>\n",
       "      <th>4</th>\n",
       "      <td>170.96</td>\n",
       "      <td>66.75</td>\n",
       "      <td>1</td>\n",
       "      <td>1</td>\n",
       "      <td>1</td>\n",
       "    </tr>\n",
       "    <tr>\n",
       "      <th>1</th>\n",
       "      <td>171.36</td>\n",
       "      <td>60.10</td>\n",
       "      <td>0</td>\n",
       "      <td>0</td>\n",
       "      <td>0</td>\n",
       "    </tr>\n",
       "    <tr>\n",
       "      <th>11</th>\n",
       "      <td>171.44</td>\n",
       "      <td>57.50</td>\n",
       "      <td>0</td>\n",
       "      <td>0</td>\n",
       "      <td>0</td>\n",
       "    </tr>\n",
       "    <tr>\n",
       "      <th>13</th>\n",
       "      <td>171.64</td>\n",
       "      <td>56.55</td>\n",
       "      <td>0</td>\n",
       "      <td>0</td>\n",
       "      <td>0</td>\n",
       "    </tr>\n",
       "    <tr>\n",
       "      <th>15</th>\n",
       "      <td>172.40</td>\n",
       "      <td>62.55</td>\n",
       "      <td>0</td>\n",
       "      <td>1</td>\n",
       "      <td>0</td>\n",
       "    </tr>\n",
       "    <tr>\n",
       "      <th>18</th>\n",
       "      <td>172.72</td>\n",
       "      <td>61.05</td>\n",
       "      <td>0</td>\n",
       "      <td>1</td>\n",
       "      <td>0</td>\n",
       "    </tr>\n",
       "    <tr>\n",
       "      <th>12</th>\n",
       "      <td>172.76</td>\n",
       "      <td>57.75</td>\n",
       "      <td>0</td>\n",
       "      <td>0</td>\n",
       "      <td>0</td>\n",
       "    </tr>\n",
       "    <tr>\n",
       "      <th>17</th>\n",
       "      <td>176.40</td>\n",
       "      <td>62.55</td>\n",
       "      <td>0</td>\n",
       "      <td>1</td>\n",
       "      <td>0</td>\n",
       "    </tr>\n",
       "  </tbody>\n",
       "</table>\n",
       "</div>"
      ],
      "text/plain": [
       "    height  weight  sports  sex  age\n",
       "5   162.96   55.70       1    0    0\n",
       "6   165.60   59.15       1    0    0\n",
       "7   165.64   72.10       1    1    1\n",
       "14  167.76   66.15       1    1    1\n",
       "3   168.00   59.30       1    0    0\n",
       "9   168.12   71.45       1    1    1\n",
       "8   168.76   72.50       1    1    1\n",
       "0   168.76   64.55       1    1    0\n",
       "10  169.20   55.95       0    0    0\n",
       "2   169.36   65.60       1    1    1\n",
       "16  169.36   65.00       1    1    1\n",
       "19  170.04   75.25       1    1    1\n",
       "4   170.96   66.75       1    1    1\n",
       "1   171.36   60.10       0    0    0\n",
       "11  171.44   57.50       0    0    0\n",
       "13  171.64   56.55       0    0    0\n",
       "15  172.40   62.55       0    1    0\n",
       "18  172.72   61.05       0    1    0\n",
       "12  172.76   57.75       0    0    0\n",
       "17  176.40   62.55       0    1    0"
      ]
     },
     "execution_count": 3,
     "metadata": {},
     "output_type": "execute_result"
    }
   ],
   "source": [
    "z = df.sort_values('height')\n",
    "y1 = [1,1,1,1,1,1,1,1,0,1,1,1,1,0,0,0,0,0,0,0]\n",
    "y2 = [0,0,1,1,0,1,1,1,0,1,1,1,1,0,0,0,1,1,0,1]\n",
    "y3 = [0,0,1,1,0,1,1,0,0,1,1,1,1,0,0,0,0,0,0,0]\n",
    "z[\"sports\"] = y1\n",
    "z['sex'] = y2\n",
    "z['age'] = y3\n",
    "z"
   ]
  },
  {
   "cell_type": "code",
   "execution_count": 4,
   "id": "719c158d",
   "metadata": {},
   "outputs": [],
   "source": [
    "from sklearn.linear_model import LogisticRegression, SGDClassifier\n",
    "from sklearn.preprocessing import StandardScaler\n",
    "scaler = StandardScaler()\n",
    "model = SGDClassifier()\n",
    "# model = LogisticRegression()\n",
    "X = z[[\"height\", \"weight\"]]\n",
    "X_sc = X.copy()\n",
    "X_sc.loc[:,[\"height\", \"weight\"]] = scaler.fit_transform(z[[\"height\", \"weight\"]])"
   ]
  },
  {
   "cell_type": "code",
   "execution_count": 5,
   "id": "57f4b1ef",
   "metadata": {},
   "outputs": [
    {
     "data": {
      "text/html": [
       "<div>\n",
       "<style scoped>\n",
       "    .dataframe tbody tr th:only-of-type {\n",
       "        vertical-align: middle;\n",
       "    }\n",
       "\n",
       "    .dataframe tbody tr th {\n",
       "        vertical-align: top;\n",
       "    }\n",
       "\n",
       "    .dataframe thead th {\n",
       "        text-align: right;\n",
       "    }\n",
       "</style>\n",
       "<table border=\"1\" class=\"dataframe\">\n",
       "  <thead>\n",
       "    <tr style=\"text-align: right;\">\n",
       "      <th></th>\n",
       "      <th>height</th>\n",
       "      <th>weight</th>\n",
       "    </tr>\n",
       "  </thead>\n",
       "  <tbody>\n",
       "    <tr>\n",
       "      <th>5</th>\n",
       "      <td>-2.285332</td>\n",
       "      <td>-1.323672</td>\n",
       "    </tr>\n",
       "    <tr>\n",
       "      <th>6</th>\n",
       "      <td>-1.385111</td>\n",
       "      <td>-0.728666</td>\n",
       "    </tr>\n",
       "    <tr>\n",
       "      <th>7</th>\n",
       "      <td>-1.371472</td>\n",
       "      <td>1.504761</td>\n",
       "    </tr>\n",
       "    <tr>\n",
       "      <th>14</th>\n",
       "      <td>-0.648568</td>\n",
       "      <td>0.478591</td>\n",
       "    </tr>\n",
       "    <tr>\n",
       "      <th>3</th>\n",
       "      <td>-0.566730</td>\n",
       "      <td>-0.702796</td>\n",
       "    </tr>\n",
       "    <tr>\n",
       "      <th>9</th>\n",
       "      <td>-0.525810</td>\n",
       "      <td>1.392658</td>\n",
       "    </tr>\n",
       "    <tr>\n",
       "      <th>8</th>\n",
       "      <td>-0.307575</td>\n",
       "      <td>1.573747</td>\n",
       "    </tr>\n",
       "    <tr>\n",
       "      <th>0</th>\n",
       "      <td>-0.307575</td>\n",
       "      <td>0.202647</td>\n",
       "    </tr>\n",
       "    <tr>\n",
       "      <th>10</th>\n",
       "      <td>-0.157539</td>\n",
       "      <td>-1.280556</td>\n",
       "    </tr>\n",
       "    <tr>\n",
       "      <th>2</th>\n",
       "      <td>-0.102980</td>\n",
       "      <td>0.383735</td>\n",
       "    </tr>\n",
       "    <tr>\n",
       "      <th>16</th>\n",
       "      <td>-0.102980</td>\n",
       "      <td>0.280256</td>\n",
       "    </tr>\n",
       "    <tr>\n",
       "      <th>19</th>\n",
       "      <td>0.128895</td>\n",
       "      <td>2.048026</td>\n",
       "    </tr>\n",
       "    <tr>\n",
       "      <th>4</th>\n",
       "      <td>0.442608</td>\n",
       "      <td>0.582071</td>\n",
       "    </tr>\n",
       "    <tr>\n",
       "      <th>1</th>\n",
       "      <td>0.579005</td>\n",
       "      <td>-0.564824</td>\n",
       "    </tr>\n",
       "    <tr>\n",
       "      <th>11</th>\n",
       "      <td>0.606285</td>\n",
       "      <td>-1.013234</td>\n",
       "    </tr>\n",
       "    <tr>\n",
       "      <th>13</th>\n",
       "      <td>0.674483</td>\n",
       "      <td>-1.177076</td>\n",
       "    </tr>\n",
       "    <tr>\n",
       "      <th>15</th>\n",
       "      <td>0.933637</td>\n",
       "      <td>-0.142284</td>\n",
       "    </tr>\n",
       "    <tr>\n",
       "      <th>18</th>\n",
       "      <td>1.042755</td>\n",
       "      <td>-0.400982</td>\n",
       "    </tr>\n",
       "    <tr>\n",
       "      <th>12</th>\n",
       "      <td>1.056395</td>\n",
       "      <td>-0.970118</td>\n",
       "    </tr>\n",
       "    <tr>\n",
       "      <th>17</th>\n",
       "      <td>2.297607</td>\n",
       "      <td>-0.142284</td>\n",
       "    </tr>\n",
       "  </tbody>\n",
       "</table>\n",
       "</div>"
      ],
      "text/plain": [
       "      height    weight\n",
       "5  -2.285332 -1.323672\n",
       "6  -1.385111 -0.728666\n",
       "7  -1.371472  1.504761\n",
       "14 -0.648568  0.478591\n",
       "3  -0.566730 -0.702796\n",
       "9  -0.525810  1.392658\n",
       "8  -0.307575  1.573747\n",
       "0  -0.307575  0.202647\n",
       "10 -0.157539 -1.280556\n",
       "2  -0.102980  0.383735\n",
       "16 -0.102980  0.280256\n",
       "19  0.128895  2.048026\n",
       "4   0.442608  0.582071\n",
       "1   0.579005 -0.564824\n",
       "11  0.606285 -1.013234\n",
       "13  0.674483 -1.177076\n",
       "15  0.933637 -0.142284\n",
       "18  1.042755 -0.400982\n",
       "12  1.056395 -0.970118\n",
       "17  2.297607 -0.142284"
      ]
     },
     "execution_count": 5,
     "metadata": {},
     "output_type": "execute_result"
    }
   ],
   "source": [
    "X_sc"
   ]
  },
  {
   "cell_type": "markdown",
   "id": "0792c870",
   "metadata": {},
   "source": [
    "## 이진 분류 경계 그리는 함수"
   ]
  },
  {
   "cell_type": "code",
   "execution_count": 6,
   "id": "cb72ab22",
   "metadata": {},
   "outputs": [],
   "source": [
    "def plot_dec_boundary(X,y,marker='o'):\n",
    "    model.fit(X, y)\n",
    "    w1, w2, b = model.coef_[0][0], model.coef_[0][1], model.intercept_[0]\n",
    "#     xs = np.array((162, 177))\n",
    "    xs = np.array((-3, 3))\n",
    "    ys = -(w1/w2)*xs - b/w2\n",
    "    plt.plot(xs,ys, c='r')\n",
    "    plt.scatter(X.height,X.weight, c=y,s=20,marker=marker,cmap='bwr')  \n",
    "    return (w1, w2, b)"
   ]
  },
  {
   "cell_type": "code",
   "execution_count": 8,
   "id": "dd928dbb",
   "metadata": {},
   "outputs": [
    {
     "data": {
      "image/png": "[encoded data removed]",
      "text/plain": [
       "<Figure size 360x288 with 1 Axes>"
      ]
     },
     "metadata": {
      "image/png": {
       "height": 248,
       "width": 315
      },
      "needs_background": "light"
     },
     "output_type": "display_data"
    }
   ],
   "source": [
    "# W_1 = plot_dec_boundary(X,z.sports,marker='o')\n",
    "W_1 = plot_dec_boundary(X_sc,z.sports,marker='o')"
   ]
  },
  {
   "cell_type": "markdown",
   "id": "bc394229",
   "metadata": {},
   "source": [
    "### $y_{1} = w_{11}x_{1}+w_{12}x_{2}+b_{1} > 0 : 축구 $\n",
    "### W_1 = ($w_{11}, w_{12}, b_{1}$)"
   ]
  },
  {
   "cell_type": "code",
   "execution_count": 9,
   "id": "816ba9f7",
   "metadata": {},
   "outputs": [
    {
     "data": {
      "text/plain": [
       "(-21.234663860605664, 14.372115766474625, 9.69562526288229)"
      ]
     },
     "execution_count": 9,
     "metadata": {},
     "output_type": "execute_result"
    }
   ],
   "source": [
    "W_1"
   ]
  },
  {
   "cell_type": "code",
   "execution_count": 10,
   "id": "b73d2ed4",
   "metadata": {},
   "outputs": [
    {
     "data": {
      "image/png": "[encoded data removed]",
      "text/plain": [
       "<Figure size 360x288 with 1 Axes>"
      ]
     },
     "metadata": {
      "image/png": {
       "height": 248,
       "width": 324
      },
      "needs_background": "light"
     },
     "output_type": "display_data"
    }
   ],
   "source": [
    "W_2 = plot_dec_boundary(X_sc,z.sex,marker='*')"
   ]
  },
  {
   "cell_type": "code",
   "execution_count": 11,
   "id": "3397fada",
   "metadata": {},
   "outputs": [
    {
     "data": {
      "image/png": "[encoded data removed]",
      "text/plain": [
       "<Figure size 360x288 with 1 Axes>"
      ]
     },
     "metadata": {
      "image/png": {
       "height": 248,
       "width": 324
      },
      "needs_background": "light"
     },
     "output_type": "display_data"
    }
   ],
   "source": [
    "W_3 = plot_dec_boundary(X_sc,z.age,marker='v')"
   ]
  },
  {
   "cell_type": "code",
   "execution_count": 12,
   "id": "a0be7b32",
   "metadata": {},
   "outputs": [
    {
     "data": {
      "text/plain": [
       "array([[-21.23,  14.37,   9.7 ],\n",
       "       [ 14.67,  29.92,   0.23],\n",
       "       [ -0.52,  29.28,  -9.34]])"
      ]
     },
     "execution_count": 12,
     "metadata": {},
     "output_type": "execute_result"
    }
   ],
   "source": [
    "W = np.vstack((W_1, W_2, W_3))\n",
    "W.round(2)"
   ]
  },
  {
   "cell_type": "markdown",
   "id": "7f600441",
   "metadata": {},
   "source": [
    "$y_{1} = w_{11}x_{1}+w_{12}x_{2}+b_{1} > 0 : 축구 $  \n",
    "$y_{2} = w_{21}x_{1}+w_{22}x_{2}+b_{2} > 0 : 남성 $   \n",
    "$y_{3} = w_{31}x_{1}+w_{32}x_{2}+b_{3} > 0 : 장년 $   "
   ]
  },
  {
   "cell_type": "markdown",
   "id": "7a10516f",
   "metadata": {},
   "source": [
    "$\\begin{bmatrix} y_{1} & y_{2} & y_{3} \\end{bmatrix} = \\begin{bmatrix} x_{1} & x_{2} & 1 \\end{bmatrix} \n",
    "\\begin{bmatrix} w_{11} & w_{21} & w_{31} \\\\ w_{12} & w_{22} & w_{32} \\\\ b_{1} & b_{2} & b_{3} \\end{bmatrix}$"
   ]
  },
  {
   "cell_type": "markdown",
   "id": "c3f9b956",
   "metadata": {},
   "source": [
    "## 임의의 샘플값 X로부터 3개의 목적변수를 예측"
   ]
  },
  {
   "cell_type": "code",
   "execution_count": 29,
   "id": "c438c553",
   "metadata": {},
   "outputs": [
    {
     "name": "stdout",
     "output_type": "stream",
     "text": [
      "[[-1.93069948 -0.58207069  1.        ]\n",
      " [ 0.11525546  1.1425832   1.        ]\n",
      " [ 0.11525546 -1.44439763  1.        ]\n",
      " [ 1.13823294 -0.06467452  1.        ]]\n"
     ]
    },
    {
     "data": {
      "text/plain": [
       "array([[ 42.32779251, -45.5145221 , -25.37494103],\n",
       "       [ 23.66955234,  36.10947948,  24.04706455],\n",
       "       [-13.51083575, -41.2902275 , -51.69313932],\n",
       "       [-15.40387821,  15.00171469, -11.83409575]])"
      ]
     },
     "execution_count": 29,
     "metadata": {},
     "output_type": "execute_result"
    }
   ],
   "source": [
    "# X_sample=np.array([[164,60,1],[170,70,1],[170,55,1],[173,63,1]]) # 4명의 임의의 샘플값\n",
    "X_sample=np.array([[164,60],[170,70],[170,55],[173,63]]) # 4명의 임의의 샘플값\n",
    "X_sample_sc= scaler.transform(X_sample)\n",
    "X_sample_sc = np.c_[X_sample_sc, np.ones(len(X_sample_sc))] # 바이어스를 반영할 '1' 컬럼 추가\n",
    "print(X_sample_sc)\n",
    "y_score = np.matmul(X_sample_sc,W.T)\n",
    "y_score"
   ]
  },
  {
   "cell_type": "markdown",
   "id": "964c29f5",
   "metadata": {},
   "source": [
    "### y_score\n",
    "\n",
    "$\\begin{bmatrix} y_{11}&y_{12} &y_{13}  \\\\ y_{21}&y_{22} &y_{23} \\\\ y_{31}&y_{32} &y_{33} \\\\ y_{41}&y_{42} &y_{43} \\end{bmatrix} = \\begin{bmatrix} x_{11} & x_{12} & 1 \\\\ x_{21} & x_{22} & 1 \\\\ x_{31} & x_{32} & 1 \\\\ x_{41} & x_{42} & 1\\end{bmatrix} \n",
    "\\begin{bmatrix} w_{11} & w_{21} & w_{31} \\\\ w_{12} & w_{22} & w_{32} \\\\ b_{1} & b_{2} & b_{3} \\end{bmatrix}$"
   ]
  },
  {
   "cell_type": "markdown",
   "id": "38c66e6c",
   "metadata": {},
   "source": [
    "# 이진 분류\n",
    "### 점수를 직접 계산하여 > 0 인지 확인하는 방법"
   ]
  },
  {
   "cell_type": "code",
   "execution_count": 23,
   "id": "b75d8c8a",
   "metadata": {},
   "outputs": [
    {
     "data": {
      "text/plain": [
       "array([[1, 0, 0],\n",
       "       [1, 1, 1],\n",
       "       [0, 0, 0],\n",
       "       [0, 1, 0]])"
      ]
     },
     "execution_count": 23,
     "metadata": {},
     "output_type": "execute_result"
    }
   ],
   "source": [
    "y_pred = (y_score > 0).astype('int')\n",
    "y_pred"
   ]
  },
  {
   "cell_type": "code",
   "execution_count": 24,
   "id": "214f420d",
   "metadata": {},
   "outputs": [
    {
     "data": {
      "text/html": [
       "<div>\n",
       "<style scoped>\n",
       "    .dataframe tbody tr th:only-of-type {\n",
       "        vertical-align: middle;\n",
       "    }\n",
       "\n",
       "    .dataframe tbody tr th {\n",
       "        vertical-align: top;\n",
       "    }\n",
       "\n",
       "    .dataframe thead th {\n",
       "        text-align: right;\n",
       "    }\n",
       "</style>\n",
       "<table border=\"1\" class=\"dataframe\">\n",
       "  <thead>\n",
       "    <tr style=\"text-align: right;\">\n",
       "      <th></th>\n",
       "      <th>sports</th>\n",
       "      <th>sex</th>\n",
       "      <th>age</th>\n",
       "    </tr>\n",
       "  </thead>\n",
       "  <tbody>\n",
       "    <tr>\n",
       "      <th>0</th>\n",
       "      <td>1</td>\n",
       "      <td>0</td>\n",
       "      <td>0</td>\n",
       "    </tr>\n",
       "    <tr>\n",
       "      <th>1</th>\n",
       "      <td>1</td>\n",
       "      <td>1</td>\n",
       "      <td>1</td>\n",
       "    </tr>\n",
       "    <tr>\n",
       "      <th>2</th>\n",
       "      <td>0</td>\n",
       "      <td>0</td>\n",
       "      <td>0</td>\n",
       "    </tr>\n",
       "    <tr>\n",
       "      <th>3</th>\n",
       "      <td>0</td>\n",
       "      <td>1</td>\n",
       "      <td>0</td>\n",
       "    </tr>\n",
       "  </tbody>\n",
       "</table>\n",
       "</div>"
      ],
      "text/plain": [
       "   sports  sex  age\n",
       "0       1    0    0\n",
       "1       1    1    1\n",
       "2       0    0    0\n",
       "3       0    1    0"
      ]
     },
     "execution_count": 24,
     "metadata": {},
     "output_type": "execute_result"
    }
   ],
   "source": [
    "df = pd.DataFrame(y_pred, columns=['sports','sex','age'])\n",
    "df"
   ]
  },
  {
   "cell_type": "code",
   "execution_count": 27,
   "id": "de38b95a",
   "metadata": {},
   "outputs": [
    {
     "data": {
      "text/html": [
       "<div>\n",
       "<style scoped>\n",
       "    .dataframe tbody tr th:only-of-type {\n",
       "        vertical-align: middle;\n",
       "    }\n",
       "\n",
       "    .dataframe tbody tr th {\n",
       "        vertical-align: top;\n",
       "    }\n",
       "\n",
       "    .dataframe thead th {\n",
       "        text-align: right;\n",
       "    }\n",
       "</style>\n",
       "<table border=\"1\" class=\"dataframe\">\n",
       "  <thead>\n",
       "    <tr style=\"text-align: right;\">\n",
       "      <th></th>\n",
       "      <th>키</th>\n",
       "      <th>몸무게</th>\n",
       "    </tr>\n",
       "  </thead>\n",
       "  <tbody>\n",
       "    <tr>\n",
       "      <th>0</th>\n",
       "      <td>-1.930699</td>\n",
       "      <td>-0.582071</td>\n",
       "    </tr>\n",
       "    <tr>\n",
       "      <th>1</th>\n",
       "      <td>0.115255</td>\n",
       "      <td>1.142583</td>\n",
       "    </tr>\n",
       "    <tr>\n",
       "      <th>2</th>\n",
       "      <td>0.115255</td>\n",
       "      <td>-1.444398</td>\n",
       "    </tr>\n",
       "    <tr>\n",
       "      <th>3</th>\n",
       "      <td>1.138233</td>\n",
       "      <td>-0.064675</td>\n",
       "    </tr>\n",
       "  </tbody>\n",
       "</table>\n",
       "</div>"
      ],
      "text/plain": [
       "          키       몸무게\n",
       "0 -1.930699 -0.582071\n",
       "1  0.115255  1.142583\n",
       "2  0.115255 -1.444398\n",
       "3  1.138233 -0.064675"
      ]
     },
     "execution_count": 27,
     "metadata": {},
     "output_type": "execute_result"
    }
   ],
   "source": [
    "# X_s = pd.DataFrame(X_sample[:,(0,1)], columns=['키','몸무게'])\n",
    "X_s = pd.DataFrame(X_sample_sc[:,(0,1)], columns=['키','몸무게'])\n",
    "X_s"
   ]
  },
  {
   "cell_type": "code",
   "execution_count": 52,
   "id": "70b8a7d3",
   "metadata": {},
   "outputs": [
    {
     "data": {
      "image/png": "[encoded data removed]",
      "text/plain": [
       "<Figure size 360x288 with 1 Axes>"
      ]
     },
     "metadata": {
      "image/png": {
       "height": 248,
       "width": 315
      },
      "needs_background": "light"
     },
     "output_type": "display_data"
    }
   ],
   "source": [
    "plt.scatter(X_sc.height,X_sc.weight)\n",
    "# xs = np.array((162, 177))\n",
    "xs = np.array((-3, 3))\n",
    "for w in [W_1, W_2, W_3]:\n",
    "    ys = -(w[0]/w[1])*xs - w[2]/w[1]\n",
    "    plt.plot(xs,ys, c='r')\n",
    "# plt.text(162,53,\"y1:Football\")\n",
    "# plt.text(164,49,\"Basketball\")\n",
    "# plt.text(174,60,\"y2:Male\")\n",
    "# plt.text(174,58,\"Female\")\n",
    "# plt.text(174,66,\"y3:Adult\")\n",
    "# plt.text(174,63.7,\"Young\")\n",
    "plt.text(-2,-2,\"y1:Football\")\n",
    "plt.text(-1.5,-3.1,\"Basketball\")\n",
    "plt.text(1.7,-1.5,\"y2:Male\")\n",
    "plt.text(1.7,-0.7,\"Female\")\n",
    "plt.text(1.2,0.5,\"y3:Adult\")\n",
    "plt.text(1.3,-0.2,\"Young\")\n",
    "plt.scatter(X_s['키'], X_s['몸무게'], c ='r', s=30, marker='^')\n",
    "for i in range(len(X_s)):\n",
    "    plt.text(X_s['키'][i], X_s['몸무게'][i], str(X_s.index[i]))"
   ]
  },
  {
   "cell_type": "code",
   "execution_count": 31,
   "id": "ea29d5e0",
   "metadata": {
    "scrolled": true
   },
   "outputs": [],
   "source": [
    "df.sports = df.sports.map({1:\"축구\", 0:\"농구\"})\n",
    "df.sex = df.sex.map({1:\"남\", 0:\"여\"})\n",
    "df.age = df.age.map({1:\"장년\", 0:\"청년\"})"
   ]
  },
  {
   "cell_type": "code",
   "execution_count": 37,
   "id": "5546e92e",
   "metadata": {},
   "outputs": [
    {
     "data": {
      "text/plain": [
       "array([[164,  60],\n",
       "       [170,  70],\n",
       "       [170,  55],\n",
       "       [173,  63]])"
      ]
     },
     "execution_count": 37,
     "metadata": {},
     "output_type": "execute_result"
    }
   ],
   "source": [
    "X_sample"
   ]
  },
  {
   "cell_type": "code",
   "execution_count": 38,
   "id": "6c44a699",
   "metadata": {
    "scrolled": true
   },
   "outputs": [
    {
     "data": {
      "text/html": [
       "<div>\n",
       "<style scoped>\n",
       "    .dataframe tbody tr th:only-of-type {\n",
       "        vertical-align: middle;\n",
       "    }\n",
       "\n",
       "    .dataframe tbody tr th {\n",
       "        vertical-align: top;\n",
       "    }\n",
       "\n",
       "    .dataframe thead th {\n",
       "        text-align: right;\n",
       "    }\n",
       "</style>\n",
       "<table border=\"1\" class=\"dataframe\">\n",
       "  <thead>\n",
       "    <tr style=\"text-align: right;\">\n",
       "      <th></th>\n",
       "      <th>0</th>\n",
       "      <th>1</th>\n",
       "      <th>sports</th>\n",
       "      <th>sex</th>\n",
       "      <th>age</th>\n",
       "    </tr>\n",
       "  </thead>\n",
       "  <tbody>\n",
       "    <tr>\n",
       "      <th>0</th>\n",
       "      <td>164</td>\n",
       "      <td>60</td>\n",
       "      <td>축구</td>\n",
       "      <td>여</td>\n",
       "      <td>청년</td>\n",
       "    </tr>\n",
       "    <tr>\n",
       "      <th>1</th>\n",
       "      <td>170</td>\n",
       "      <td>70</td>\n",
       "      <td>축구</td>\n",
       "      <td>남</td>\n",
       "      <td>장년</td>\n",
       "    </tr>\n",
       "    <tr>\n",
       "      <th>2</th>\n",
       "      <td>170</td>\n",
       "      <td>55</td>\n",
       "      <td>농구</td>\n",
       "      <td>여</td>\n",
       "      <td>청년</td>\n",
       "    </tr>\n",
       "    <tr>\n",
       "      <th>3</th>\n",
       "      <td>173</td>\n",
       "      <td>63</td>\n",
       "      <td>농구</td>\n",
       "      <td>남</td>\n",
       "      <td>청년</td>\n",
       "    </tr>\n",
       "  </tbody>\n",
       "</table>\n",
       "</div>"
      ],
      "text/plain": [
       "     0   1 sports sex age\n",
       "0  164  60     축구   여  청년\n",
       "1  170  70     축구   남  장년\n",
       "2  170  55     농구   여  청년\n",
       "3  173  63     농구   남  청년"
      ]
     },
     "execution_count": 38,
     "metadata": {},
     "output_type": "execute_result"
    }
   ],
   "source": [
    "pd.concat((pd.DataFrame(X_sample), df), axis=1)"
   ]
  },
  {
   "cell_type": "code",
   "execution_count": 54,
   "id": "33f7d35d",
   "metadata": {},
   "outputs": [
    {
     "data": {
      "text/plain": [
       "[1, 1, 1, 1, 1, 1, 1, 1, 0, 1, 1, 1, 1, 0, 0, 0, 0, 0, 0, 0]"
      ]
     },
     "execution_count": 54,
     "metadata": {},
     "output_type": "execute_result"
    }
   ],
   "source": [
    "y1"
   ]
  },
  {
   "cell_type": "code",
   "execution_count": 56,
   "id": "bc4f61ba",
   "metadata": {},
   "outputs": [
    {
     "data": {
      "text/html": [
       "<div>\n",
       "<style scoped>\n",
       "    .dataframe tbody tr th:only-of-type {\n",
       "        vertical-align: middle;\n",
       "    }\n",
       "\n",
       "    .dataframe tbody tr th {\n",
       "        vertical-align: top;\n",
       "    }\n",
       "\n",
       "    .dataframe thead th {\n",
       "        text-align: right;\n",
       "    }\n",
       "</style>\n",
       "<table border=\"1\" class=\"dataframe\">\n",
       "  <thead>\n",
       "    <tr style=\"text-align: right;\">\n",
       "      <th></th>\n",
       "      <th>height</th>\n",
       "      <th>weight</th>\n",
       "    </tr>\n",
       "  </thead>\n",
       "  <tbody>\n",
       "    <tr>\n",
       "      <th>5</th>\n",
       "      <td>-2.285332</td>\n",
       "      <td>-1.323672</td>\n",
       "    </tr>\n",
       "    <tr>\n",
       "      <th>6</th>\n",
       "      <td>-1.385111</td>\n",
       "      <td>-0.728666</td>\n",
       "    </tr>\n",
       "    <tr>\n",
       "      <th>7</th>\n",
       "      <td>-1.371472</td>\n",
       "      <td>1.504761</td>\n",
       "    </tr>\n",
       "    <tr>\n",
       "      <th>14</th>\n",
       "      <td>-0.648568</td>\n",
       "      <td>0.478591</td>\n",
       "    </tr>\n",
       "    <tr>\n",
       "      <th>3</th>\n",
       "      <td>-0.566730</td>\n",
       "      <td>-0.702796</td>\n",
       "    </tr>\n",
       "    <tr>\n",
       "      <th>9</th>\n",
       "      <td>-0.525810</td>\n",
       "      <td>1.392658</td>\n",
       "    </tr>\n",
       "    <tr>\n",
       "      <th>8</th>\n",
       "      <td>-0.307575</td>\n",
       "      <td>1.573747</td>\n",
       "    </tr>\n",
       "    <tr>\n",
       "      <th>0</th>\n",
       "      <td>-0.307575</td>\n",
       "      <td>0.202647</td>\n",
       "    </tr>\n",
       "    <tr>\n",
       "      <th>10</th>\n",
       "      <td>-0.157539</td>\n",
       "      <td>-1.280556</td>\n",
       "    </tr>\n",
       "    <tr>\n",
       "      <th>2</th>\n",
       "      <td>-0.102980</td>\n",
       "      <td>0.383735</td>\n",
       "    </tr>\n",
       "    <tr>\n",
       "      <th>16</th>\n",
       "      <td>-0.102980</td>\n",
       "      <td>0.280256</td>\n",
       "    </tr>\n",
       "    <tr>\n",
       "      <th>19</th>\n",
       "      <td>0.128895</td>\n",
       "      <td>2.048026</td>\n",
       "    </tr>\n",
       "    <tr>\n",
       "      <th>4</th>\n",
       "      <td>0.442608</td>\n",
       "      <td>0.582071</td>\n",
       "    </tr>\n",
       "    <tr>\n",
       "      <th>1</th>\n",
       "      <td>0.579005</td>\n",
       "      <td>-0.564824</td>\n",
       "    </tr>\n",
       "    <tr>\n",
       "      <th>11</th>\n",
       "      <td>0.606285</td>\n",
       "      <td>-1.013234</td>\n",
       "    </tr>\n",
       "    <tr>\n",
       "      <th>13</th>\n",
       "      <td>0.674483</td>\n",
       "      <td>-1.177076</td>\n",
       "    </tr>\n",
       "    <tr>\n",
       "      <th>15</th>\n",
       "      <td>0.933637</td>\n",
       "      <td>-0.142284</td>\n",
       "    </tr>\n",
       "    <tr>\n",
       "      <th>18</th>\n",
       "      <td>1.042755</td>\n",
       "      <td>-0.400982</td>\n",
       "    </tr>\n",
       "    <tr>\n",
       "      <th>12</th>\n",
       "      <td>1.056395</td>\n",
       "      <td>-0.970118</td>\n",
       "    </tr>\n",
       "    <tr>\n",
       "      <th>17</th>\n",
       "      <td>2.297607</td>\n",
       "      <td>-0.142284</td>\n",
       "    </tr>\n",
       "  </tbody>\n",
       "</table>\n",
       "</div>"
      ],
      "text/plain": [
       "      height    weight\n",
       "5  -2.285332 -1.323672\n",
       "6  -1.385111 -0.728666\n",
       "7  -1.371472  1.504761\n",
       "14 -0.648568  0.478591\n",
       "3  -0.566730 -0.702796\n",
       "9  -0.525810  1.392658\n",
       "8  -0.307575  1.573747\n",
       "0  -0.307575  0.202647\n",
       "10 -0.157539 -1.280556\n",
       "2  -0.102980  0.383735\n",
       "16 -0.102980  0.280256\n",
       "19  0.128895  2.048026\n",
       "4   0.442608  0.582071\n",
       "1   0.579005 -0.564824\n",
       "11  0.606285 -1.013234\n",
       "13  0.674483 -1.177076\n",
       "15  0.933637 -0.142284\n",
       "18  1.042755 -0.400982\n",
       "12  1.056395 -0.970118\n",
       "17  2.297607 -0.142284"
      ]
     },
     "execution_count": 56,
     "metadata": {},
     "output_type": "execute_result"
    }
   ],
   "source": [
    "X_sc"
   ]
  },
  {
   "cell_type": "markdown",
   "id": "f4a1772a",
   "metadata": {},
   "source": [
    "## 선형 분류 모델 사용"
   ]
  },
  {
   "cell_type": "code",
   "execution_count": 57,
   "id": "f8903c2d",
   "metadata": {},
   "outputs": [
    {
     "data": {
      "text/plain": [
       "array([1, 1, 0, 0])"
      ]
     },
     "execution_count": 57,
     "metadata": {},
     "output_type": "execute_result"
    }
   ],
   "source": [
    "# sports 예측 모델\n",
    "model.fit(X_sc, y1)\n",
    "model.predict(X_s)"
   ]
  },
  {
   "cell_type": "code",
   "execution_count": 58,
   "id": "6bb28189",
   "metadata": {},
   "outputs": [
    {
     "data": {
      "text/plain": [
       "array([0, 1, 0, 1])"
      ]
     },
     "execution_count": 58,
     "metadata": {},
     "output_type": "execute_result"
    }
   ],
   "source": [
    "# sex 예측 모델\n",
    "model.fit(X_sc, y2)\n",
    "model.predict(X_s)"
   ]
  },
  {
   "cell_type": "code",
   "execution_count": 59,
   "id": "06df57a3",
   "metadata": {},
   "outputs": [
    {
     "data": {
      "text/plain": [
       "array([0, 1, 0, 0])"
      ]
     },
     "execution_count": 59,
     "metadata": {},
     "output_type": "execute_result"
    }
   ],
   "source": [
    "# adult 예측 모델\n",
    "model.fit(X_sc, y3)\n",
    "model.predict(X_s)"
   ]
  },
  {
   "cell_type": "markdown",
   "id": "ba71249d",
   "metadata": {},
   "source": [
    "# 다중 레이블 분류\n",
    "### 랜덤 포레스트를 사용"
   ]
  },
  {
   "cell_type": "code",
   "execution_count": 63,
   "id": "d46e4bb9",
   "metadata": {},
   "outputs": [
    {
     "data": {
      "text/plain": [
       "array([[1, 0, 0],\n",
       "       [1, 0, 0],\n",
       "       [1, 1, 1],\n",
       "       [1, 1, 1],\n",
       "       [1, 0, 0],\n",
       "       [1, 1, 1],\n",
       "       [1, 1, 1],\n",
       "       [1, 1, 0],\n",
       "       [0, 0, 0],\n",
       "       [1, 1, 1],\n",
       "       [1, 1, 1],\n",
       "       [1, 1, 1],\n",
       "       [1, 1, 1],\n",
       "       [0, 0, 0],\n",
       "       [0, 0, 0],\n",
       "       [0, 0, 0],\n",
       "       [0, 1, 0],\n",
       "       [0, 1, 0],\n",
       "       [0, 0, 0],\n",
       "       [0, 1, 0]])"
      ]
     },
     "execution_count": 63,
     "metadata": {},
     "output_type": "execute_result"
    }
   ],
   "source": [
    "y = np.c_[(y1, y2, y3)]\n",
    "y"
   ]
  },
  {
   "cell_type": "code",
   "execution_count": 64,
   "id": "8fc18770",
   "metadata": {},
   "outputs": [
    {
     "data": {
      "text/plain": [
       "array([[1, 0, 0],\n",
       "       [1, 1, 1],\n",
       "       [0, 0, 0],\n",
       "       [0, 1, 0]])"
      ]
     },
     "execution_count": 64,
     "metadata": {},
     "output_type": "execute_result"
    }
   ],
   "source": [
    "from sklearn.ensemble import RandomForestClassifier\n",
    "rfc = RandomForestClassifier()\n",
    "# 다중 목적변수 모델 (스케일링 수행)\n",
    "rfc.fit(X_sc, y)\n",
    "rfc.predict(X_s)"
   ]
  },
  {
   "cell_type": "code",
   "execution_count": 68,
   "id": "b9f4d19a",
   "metadata": {},
   "outputs": [
    {
     "data": {
      "text/plain": [
       "array([[1, 0, 0],\n",
       "       [1, 1, 1],\n",
       "       [0, 0, 0],\n",
       "       [0, 1, 0]])"
      ]
     },
     "execution_count": 68,
     "metadata": {},
     "output_type": "execute_result"
    }
   ],
   "source": [
    "# 다중 목적변수 모델 (스케일링 하지 않음)\n",
    "rfc.fit(X, y)\n",
    "rfc.predict(X_sample)"
   ]
  },
  {
   "cell_type": "code",
   "execution_count": null,
   "id": "d1b02ea0",
   "metadata": {},
   "outputs": [],
   "source": []
  }
 ],
 "metadata": {
  "kernelspec": {
   "display_name": "Python 3",
   "language": "python",
   "name": "python3"
  },
  "language_info": {
   "codemirror_mode": {
    "name": "ipython",
    "version": 3
   },
   "file_extension": ".py",
   "mimetype": "text/x-python",
   "name": "python",
   "nbconvert_exporter": "python",
   "pygments_lexer": "ipython3",
   "version": "3.8.8"
  },
  "toc": {
   "base_numbering": 1,
   "nav_menu": {},
   "number_sections": false,
   "sideBar": true,
   "skip_h1_title": false,
   "title_cell": "Table of Contents",
   "title_sidebar": "Contents",
   "toc_cell": false,
   "toc_position": {},
   "toc_section_display": true,
   "toc_window_display": false
  }
 },
 "nbformat": 4,
 "nbformat_minor": 5
}
